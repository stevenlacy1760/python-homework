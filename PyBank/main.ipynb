{
 "cells": [
  {
   "cell_type": "code",
   "execution_count": 247,
   "id": "a6a9b431-a91b-4d64-bbc7-fd64c10a247b",
   "metadata": {},
   "outputs": [],
   "source": [
    "#imported path, csv, and os\n",
    "\n",
    "from pathlib import Path\n",
    "import csv\n",
    "import os\n",
    "\n",
    "#Create path to budget_data.csv into file\n",
    "\n",
    "csvpath = Path('../Pybank/budget_data.csv')"
   ]
  },
  {
   "cell_type": "code",
   "execution_count": 248,
   "id": "e13c7688-28eb-4de4-aaec-8a2a2e9cb925",
   "metadata": {},
   "outputs": [],
   "source": [
    "# make empty list for rows\n",
    "\n",
    "total_months = [] \n",
    "total_net = []\n",
    "average_change = []\n",
    "\n"
   ]
  },
  {
   "cell_type": "code",
   "execution_count": 249,
   "id": "1b8277f0-18d8-44d8-bfc9-9991f1ba57c6",
   "metadata": {},
   "outputs": [],
   "source": [
    "#open csv file in reader mode\n",
    "\n",
    "with open(csvpath, 'r') as csvfile:\n",
    "    csvreader = csv.reader(csvfile, delimiter=',')\n",
    "    csv_header = next(csvreader)\n",
    "    \n",
    "#iterate through rows of csv file    \n",
    "    \n",
    "    for row in csvreader:\n",
    "        \n",
    "#add values of rows in csv file to corresponding assigned empty list        \n",
    "        \n",
    "        total_months.append(row[0])\n",
    "        \n",
    "        \n",
    "        \n",
    "        total_net.append(int(row[1]))\n",
    "\n",
    "#iterate through total_net list to set up average monthly changes formula        \n",
    "        \n",
    "    for nets in range(len(total_net)-1):\n",
    "        \n",
    "#add the average monthly changes into the average_change[] list\n",
    "\n",
    "        average_change.append(total_net[nets + 1] - total_net[nets])\n",
    "        \n",
    "                \n",
    "#get get highest and lowest values of average monthly change with max() min()\n",
    "\n",
    "greatest_increase_numbers = max(average_change)\n",
    "greatest_decrease_numbers = min(average_change)\n",
    "\n",
    "\n",
    "#index the the high and low change values into greatest month increase and decrease\n",
    "\n",
    "greatest_month_increase = average_change.index(max(average_change)) + 1\n",
    "greatest_month_decrease = average_change.index(min(average_change)) + 1\n",
    "\n",
    "\n"
   ]
  },
  {
   "cell_type": "code",
   "execution_count": 250,
   "id": "7564af7b-0efb-431b-8a1f-4b83e10d6cb4",
   "metadata": {},
   "outputs": [
    {
     "name": "stdout",
     "output_type": "stream",
     "text": [
      "Financial Analysis\n",
      "-----------------------------------\n",
      "Total Months: 86\n",
      "Total Net: $38382578\n",
      "Average Change: -2315.12\n",
      "Greatest Increase in Profits: Feb-2012 ($1926159)\n",
      "Greatest Decrease in Profits: Sep-2013 ($-2196167)\n"
     ]
    }
   ],
   "source": [
    "#print expexted end results with fstrings and formulas included\n",
    "\n",
    "print(\"Financial Analysis\")\n",
    "\n",
    "print(\"-----------------------------------\")\n",
    "\n",
    "print(f\"Total Months: {len(total_months)}\")\n",
    "\n",
    "print(f\"Total Net: ${sum(total_net)}\")\n",
    "\n",
    "print(f\"Average Change: {round(sum(average_change) / len(average_change), 2)}\")\n",
    "\n",
    "print(f\"Greatest Increase in Profits: {total_months[greatest_month_increase]} (${(str(greatest_increase_numbers))})\")\n",
    "\n",
    "print(f\"Greatest Decrease in Profits: {total_months[greatest_month_decrease]} (${(str(greatest_decrease_numbers))})\")"
   ]
  },
  {
   "cell_type": "code",
   "execution_count": 251,
   "id": "ce556797-8fcc-4d24-816a-838f36a0c53f",
   "metadata": {},
   "outputs": [],
   "source": [
    "#output the files\n",
    "\n",
    "output_file = Path('../PyBank/Financial_Summary.txt')\n",
    "\n",
    "with open(output_file, \"w\") as file:\n",
    "    \n",
    "#write print results to financial analyis file\n",
    "    file.write(\"Financial Analysis\")\n",
    "    file.write(\"\\n\")\n",
    "    file.write(\"-----------------------------------\")\n",
    "    file.write(\"\\n\")\n",
    "    file.write(f\"Total Months: {len(total_months)}\")\n",
    "    file.write(\"\\n\")\n",
    "    file.write(f\"Total Net: ${sum(total_net)}\")\n",
    "    file.write(\"\\n\")\n",
    "    file.write(f\"Average Change: {round(sum(average_change) / len(average_change), 2)}\")\n",
    "    file.write(\"\\n\")\n",
    "    file.write(f\"Greatest Increase in Profits: {total_months[greatest_month_increase]} (${(str(greatest_increase_numbers))})\")\n",
    "    file.write(\"\\n\")\n",
    "    file.write(f\"Greatest Decrease in Profits: {total_months[greatest_month_decrease]} (${(str(greatest_decrease_numbers))})\")"
   ]
  },
  {
   "cell_type": "code",
   "execution_count": null,
   "id": "eb9706bd-f66b-4b55-8791-5144283caa8e",
   "metadata": {},
   "outputs": [],
   "source": []
  },
  {
   "cell_type": "code",
   "execution_count": null,
   "id": "d2de1645-727e-4a4c-8624-b07bddf46d9b",
   "metadata": {},
   "outputs": [],
   "source": []
  }
 ],
 "metadata": {
  "kernelspec": {
   "display_name": "Python 3",
   "language": "python",
   "name": "python3"
  },
  "language_info": {
   "codemirror_mode": {
    "name": "ipython",
    "version": 3
   },
   "file_extension": ".py",
   "mimetype": "text/x-python",
   "name": "python",
   "nbconvert_exporter": "python",
   "pygments_lexer": "ipython3",
   "version": "3.8.8"
  }
 },
 "nbformat": 4,
 "nbformat_minor": 5
}
