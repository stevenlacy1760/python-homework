{
 "cells": [
  {
   "cell_type": "code",
   "execution_count": 1,
   "id": "8ced43a8-618b-4e95-a3d5-005b3ccca69f",
   "metadata": {},
   "outputs": [],
   "source": [
    "#imported budget_data.csv\n",
    "\n",
    "import csv\n"
   ]
  },
  {
   "cell_type": "code",
   "execution_count": null,
   "id": "abeb7792-a0cc-41a9-81da-7ed293e48e8f",
   "metadata": {},
   "outputs": [],
   "source": [
    "menu = []"
   ]
  },
  {
   "cell_type": "code",
   "execution_count": null,
   "id": "780ea6eb-33e3-4f17-9507-92377e4240fd",
   "metadata": {},
   "outputs": [],
   "source": [
    "r = csv.reader(open())"
   ]
  }
 ],
 "metadata": {
  "kernelspec": {
   "display_name": "Python 3",
   "language": "python",
   "name": "python3"
  },
  "language_info": {
   "codemirror_mode": {
    "name": "ipython",
    "version": 3
   },
   "file_extension": ".py",
   "mimetype": "text/x-python",
   "name": "python",
   "nbconvert_exporter": "python",
   "pygments_lexer": "ipython3",
   "version": "3.8.8"
  }
 },
 "nbformat": 4,
 "nbformat_minor": 5
}
